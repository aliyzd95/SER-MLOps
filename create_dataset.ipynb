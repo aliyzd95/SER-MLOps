{
 "cells": [
  {
   "metadata": {
    "ExecuteTime": {
     "end_time": "2025-06-05T11:03:21.703638Z",
     "start_time": "2025-06-05T11:03:21.218799Z"
    }
   },
   "cell_type": "code",
   "source": [
    "import pandas as pd\n",
    "from pathlib import Path\n",
    "\n",
    "base_path = Path(\"D:/projects/SPEECH/cv-corpus-21.0-2025-03-14/fa\")\n",
    "\n",
    "for split in [\"train\", \"test\", \"dev\"]:\n",
    "    tsv_file = base_path / f\"{split}.tsv\"\n",
    "    csv_file = base_path / f\"{split}.csv\"\n",
    "\n",
    "    try:\n",
    "        df = pd.read_csv(tsv_file, sep=\"\\t\", quoting=3, on_bad_lines='skip', encoding=\"utf-8\")\n",
    "        df.to_csv(csv_file, index=False, encoding=\"utf-8\")\n",
    "        print(f\"✅ Converted {tsv_file} to {csv_file}\")\n",
    "    except Exception as e:\n",
    "        print(f\"❌ Error while converting {tsv_file}: {e}\")\n"
   ],
   "id": "d200cc338dfc3fbc",
   "outputs": [
    {
     "name": "stdout",
     "output_type": "stream",
     "text": [
      "✅ Converted D:\\projects\\SPEECH\\cv-corpus-21.0-2025-03-14\\fa\\train.tsv to D:\\projects\\SPEECH\\cv-corpus-21.0-2025-03-14\\fa\\train.csv\n",
      "✅ Converted D:\\projects\\SPEECH\\cv-corpus-21.0-2025-03-14\\fa\\test.tsv to D:\\projects\\SPEECH\\cv-corpus-21.0-2025-03-14\\fa\\test.csv\n",
      "✅ Converted D:\\projects\\SPEECH\\cv-corpus-21.0-2025-03-14\\fa\\dev.tsv to D:\\projects\\SPEECH\\cv-corpus-21.0-2025-03-14\\fa\\dev.csv\n"
     ]
    }
   ],
   "execution_count": 3
  },
  {
   "metadata": {
    "ExecuteTime": {
     "end_time": "2025-06-05T11:11:41.987384Z",
     "start_time": "2025-06-05T11:11:41.022622Z"
    }
   },
   "cell_type": "code",
   "source": [
    "from datasets import load_dataset, Audio, concatenate_datasets\n",
    "import os\n",
    "\n",
    "clips_dir = \"D:/projects/SPEECH/cv-corpus-21.0-2025-03-14/fa/clips\"\n",
    "data_files = {\n",
    "    \"train\": \"D:/projects/SPEECH/cv-corpus-21.0-2025-03-14/fa/train.csv\",\n",
    "    \"test\":  \"D:/projects/SPEECH/cv-corpus-21.0-2025-03-14/fa/test.csv\",\n",
    "    \"validation\": \"D:/projects/SPEECH/cv-corpus-21.0-2025-03-14/fa/dev.csv\"\n",
    "}\n",
    "\n",
    "dataset = load_dataset(\"csv\", data_files=data_files)\n",
    "\n",
    "def add_full_path(example):\n",
    "    example[\"path\"] = os.path.join(clips_dir, example[\"path\"])\n",
    "    return example\n",
    "\n",
    "dataset = dataset.map(add_full_path)\n",
    "\n",
    "dataset = dataset.cast_column(\"path\", Audio(sampling_rate=16000))\n",
    "\n",
    "for split in dataset:\n",
    "    dataset[split] = dataset[split].rename_columns({\n",
    "        \"path\": \"audio\",\n",
    "        \"sentence\": \"text\"\n",
    "    })\n",
    "\n",
    "for split in dataset:\n",
    "    dataset[split] = dataset[split].remove_columns(\n",
    "        [col for col in dataset[split].column_names if col not in [\"audio\", \"text\"]]\n",
    "    )\n",
    "\n",
    "train_dataset = concatenate_datasets([dataset[\"train\"], dataset[\"validation\"]])\n",
    "test_dataset = dataset[\"test\"]\n",
    "\n",
    "print(f\"Train samples: {len(train_dataset)}\")\n",
    "print(f\"Test samples: {len(test_dataset)}\")\n"
   ],
   "id": "405701e79a9a87a0",
   "outputs": [
    {
     "name": "stdout",
     "output_type": "stream",
     "text": [
      "Train samples: 40397\n",
      "Test samples: 10668\n"
     ]
    }
   ],
   "execution_count": 10
  }
 ],
 "metadata": {
  "kernelspec": {
   "display_name": "Python 3",
   "language": "python",
   "name": "python3"
  },
  "language_info": {
   "codemirror_mode": {
    "name": "ipython",
    "version": 2
   },
   "file_extension": ".py",
   "mimetype": "text/x-python",
   "name": "python",
   "nbconvert_exporter": "python",
   "pygments_lexer": "ipython2",
   "version": "2.7.6"
  }
 },
 "nbformat": 4,
 "nbformat_minor": 5
}
